{
 "cells": [
  {
   "cell_type": "code",
   "execution_count": 1,
   "metadata": {},
   "outputs": [],
   "source": [
    "import os\n",
    "import cv2\n",
    "import numpy as np\n",
    "\n",
    "dirs = ['ants', 'bees']\n",
    "pixels = []\n",
    "labels = []\n",
    "\n",
    "for i, d in enumerate(dirs):\n",
    "    files = os.listdir('../datasets/ric/' + d)\n",
    "    \n",
    "    for f in files:\n",
    "        img = cv2.imread('../datasets/ric/' + d + '/' + f, 0)\n",
    "        img = cv2.resize(img, (128, 128))\n",
    "        img = np.array(img).flatten().tolist()\n",
    "        pixels.append(img)\n",
    "        \n",
    "        labels.append(i)"
   ]
  },
  {
   "cell_type": "code",
   "execution_count": 2,
   "metadata": {},
   "outputs": [
    {
     "name": "stdout",
     "output_type": "stream",
     "text": [
      "(128, 128, 1)\n",
      "0\n"
     ]
    }
   ],
   "source": [
    "pixels = np.array(pixels)/255\n",
    "pixels = pixels.reshape([-1, 128, 128, 1])\n",
    "labels = np.array(labels)\n",
    "\n",
    "print(pixels[0].shape)\n",
    "print(labels[0])"
   ]
  },
  {
   "cell_type": "code",
   "execution_count": 3,
   "metadata": {},
   "outputs": [
    {
     "name": "stdout",
     "output_type": "stream",
     "text": [
      "317\n",
      "80\n"
     ]
    }
   ],
   "source": [
    "from sklearn import model_selection\n",
    "\n",
    "trainX, testX, trainY, testY = model_selection.train_test_split(pixels, labels, test_size=0.2)\n",
    "\n",
    "print(len(trainY))\n",
    "print(len(testY))"
   ]
  },
  {
   "cell_type": "markdown",
   "metadata": {},
   "source": [
    "## グレースケールCNN\n",
    "\n",
    "kerasで不具合が起きている"
   ]
  },
  {
   "cell_type": "code",
   "execution_count": null,
   "metadata": {},
   "outputs": [],
   "source": []
  }
 ],
 "metadata": {
  "kernelspec": {
   "display_name": "Python 3",
   "language": "python",
   "name": "python3"
  },
  "language_info": {
   "codemirror_mode": {
    "name": "ipython",
    "version": 3
   },
   "file_extension": ".py",
   "mimetype": "text/x-python",
   "name": "python",
   "nbconvert_exporter": "python",
   "pygments_lexer": "ipython3",
   "version": "3.7.6"
  }
 },
 "nbformat": 4,
 "nbformat_minor": 4
}
