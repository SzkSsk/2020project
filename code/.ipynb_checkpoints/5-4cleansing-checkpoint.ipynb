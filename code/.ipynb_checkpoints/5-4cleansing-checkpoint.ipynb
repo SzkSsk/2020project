{
 "cells": [
  {
   "cell_type": "code",
   "execution_count": 1,
   "metadata": {},
   "outputs": [],
   "source": [
    "import cv2"
   ]
  },
  {
   "cell_type": "markdown",
   "metadata": {},
   "source": [
    "## 画像の反転"
   ]
  },
  {
   "cell_type": "code",
   "execution_count": 2,
   "metadata": {},
   "outputs": [
    {
     "data": {
      "text/plain": [
       "True"
      ]
     },
     "execution_count": 2,
     "metadata": {},
     "output_type": "execute_result"
    }
   ],
   "source": [
    "img = cv2.imread('../datasets/ric/ants/Swiss-army-ant.jpg', 0)\n",
    "\n",
    "x_img = cv2.flip(img, 0)\n",
    "y_img = cv2.flip(img, 1)\n",
    "xy_img = cv2.flip(img, -1)\n",
    "\n",
    "cv2.imwrite('x_img.jpg', x_img)\n",
    "cv2.imwrite('y_img.jpg', y_img)\n",
    "cv2.imwrite('xy_img.jpg', xy_img)"
   ]
  },
  {
   "cell_type": "markdown",
   "metadata": {},
   "source": [
    "## 画像の平滑化"
   ]
  },
  {
   "cell_type": "code",
   "execution_count": 3,
   "metadata": {},
   "outputs": [
    {
     "data": {
      "text/plain": [
       "True"
      ]
     },
     "execution_count": 3,
     "metadata": {},
     "output_type": "execute_result"
    }
   ],
   "source": [
    "blur_img = cv2.blur(img, (5,5))\n",
    "gau_img = cv2.GaussianBlur(img, (5,5), 0)\n",
    "med_img = cv2.medianBlur(img, 5)\n",
    "\n",
    "cv2.imwrite('blur_img.jpg', blur_img) #重みが一様のフィルタを使って、領域内のピクセル値の平均をとる\n",
    "cv2.imwrite('gau_img.jpg', gau_img) #注目するピクセルとの距離に応じて、ガウス分布に従って重みを付与し、ピクセル値の平均をとる\n",
    "cv2.imwrite('med_img.jpg', med_img) #領域内のピクセル値の中央値をとる"
   ]
  },
  {
   "cell_type": "markdown",
   "metadata": {},
   "source": [
    "## 画像の明度変更"
   ]
  },
  {
   "cell_type": "code",
   "execution_count": 10,
   "metadata": {},
   "outputs": [
    {
     "data": {
      "text/plain": [
       "True"
      ]
     },
     "execution_count": 10,
     "metadata": {},
     "output_type": "execute_result"
    }
   ],
   "source": [
    "import numpy as np\n",
    "\n",
    "gamma = 0.5\n",
    "\n",
    "lut = np.zeros((256,1), dtype='uint8')\n",
    "for i in range(len(lut)):\n",
    "    lut[i][0] = 255 * pow((float(i)/255), (1.0/gamma))\n",
    "    \n",
    "gamma_img = cv2.LUT(img, lut)\n",
    "\n",
    "cv2.imwrite('gamma_img.jpg', gamma_img)"
   ]
  },
  {
   "cell_type": "code",
   "execution_count": null,
   "metadata": {},
   "outputs": [],
   "source": []
  }
 ],
 "metadata": {
  "kernelspec": {
   "display_name": "Python 3",
   "language": "python",
   "name": "python3"
  },
  "language_info": {
   "codemirror_mode": {
    "name": "ipython",
    "version": 3
   },
   "file_extension": ".py",
   "mimetype": "text/x-python",
   "name": "python",
   "nbconvert_exporter": "python",
   "pygments_lexer": "ipython3",
   "version": "3.7.6"
  }
 },
 "nbformat": 4,
 "nbformat_minor": 4
}
