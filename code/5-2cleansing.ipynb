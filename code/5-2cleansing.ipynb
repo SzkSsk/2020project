{
 "cells": [
  {
   "cell_type": "code",
   "execution_count": 1,
   "metadata": {},
   "outputs": [],
   "source": [
    "import os\n",
    "import cv2\n",
    "import numpy as np"
   ]
  },
  {
   "cell_type": "code",
   "execution_count": 2,
   "metadata": {},
   "outputs": [],
   "source": [
    "dirs = ['ants', 'bees']\n",
    "pixels = []\n",
    "labels = []\n",
    "\n",
    "for i, d in enumerate(dirs):\n",
    "    files = os.listdir('../datasets/ric/' + d)\n",
    "    \n",
    "    for f in files:\n",
    "        img = cv2.imread('../datasets/ric/' + d + '/' + f, 0)\n",
    "        img = cv2.resize(img, (128, 128))\n",
    "        img = np.array(img).flatten().tolist()\n",
    "        pixels.append(img)\n",
    "        \n",
    "        labels.append(i)"
   ]
  },
  {
   "cell_type": "code",
   "execution_count": 3,
   "metadata": {},
   "outputs": [
    {
     "data": {
      "text/html": [
       "<div>\n",
       "<style scoped>\n",
       "    .dataframe tbody tr th:only-of-type {\n",
       "        vertical-align: middle;\n",
       "    }\n",
       "\n",
       "    .dataframe tbody tr th {\n",
       "        vertical-align: top;\n",
       "    }\n",
       "\n",
       "    .dataframe thead th {\n",
       "        text-align: right;\n",
       "    }\n",
       "</style>\n",
       "<table border=\"1\" class=\"dataframe\">\n",
       "  <thead>\n",
       "    <tr style=\"text-align: right;\">\n",
       "      <th></th>\n",
       "      <th>0</th>\n",
       "      <th>1</th>\n",
       "      <th>2</th>\n",
       "      <th>3</th>\n",
       "      <th>4</th>\n",
       "      <th>5</th>\n",
       "      <th>6</th>\n",
       "      <th>7</th>\n",
       "      <th>8</th>\n",
       "      <th>9</th>\n",
       "      <th>...</th>\n",
       "      <th>16375</th>\n",
       "      <th>16376</th>\n",
       "      <th>16377</th>\n",
       "      <th>16378</th>\n",
       "      <th>16379</th>\n",
       "      <th>16380</th>\n",
       "      <th>16381</th>\n",
       "      <th>16382</th>\n",
       "      <th>16383</th>\n",
       "      <th>label</th>\n",
       "    </tr>\n",
       "  </thead>\n",
       "  <tbody>\n",
       "    <tr>\n",
       "      <th>0</th>\n",
       "      <td>0.549020</td>\n",
       "      <td>0.552941</td>\n",
       "      <td>0.545098</td>\n",
       "      <td>0.552941</td>\n",
       "      <td>0.545098</td>\n",
       "      <td>0.556863</td>\n",
       "      <td>0.556863</td>\n",
       "      <td>0.556863</td>\n",
       "      <td>0.552941</td>\n",
       "      <td>0.556863</td>\n",
       "      <td>...</td>\n",
       "      <td>0.294118</td>\n",
       "      <td>0.282353</td>\n",
       "      <td>0.286275</td>\n",
       "      <td>0.274510</td>\n",
       "      <td>0.294118</td>\n",
       "      <td>0.286275</td>\n",
       "      <td>0.286275</td>\n",
       "      <td>0.278431</td>\n",
       "      <td>0.360784</td>\n",
       "      <td>0</td>\n",
       "    </tr>\n",
       "    <tr>\n",
       "      <th>1</th>\n",
       "      <td>0.756863</td>\n",
       "      <td>0.831373</td>\n",
       "      <td>0.894118</td>\n",
       "      <td>0.815686</td>\n",
       "      <td>0.862745</td>\n",
       "      <td>0.866667</td>\n",
       "      <td>0.737255</td>\n",
       "      <td>0.772549</td>\n",
       "      <td>0.768627</td>\n",
       "      <td>0.219608</td>\n",
       "      <td>...</td>\n",
       "      <td>0.866667</td>\n",
       "      <td>0.890196</td>\n",
       "      <td>0.933333</td>\n",
       "      <td>0.905882</td>\n",
       "      <td>0.882353</td>\n",
       "      <td>0.921569</td>\n",
       "      <td>0.945098</td>\n",
       "      <td>0.858824</td>\n",
       "      <td>0.823529</td>\n",
       "      <td>0</td>\n",
       "    </tr>\n",
       "    <tr>\n",
       "      <th>2</th>\n",
       "      <td>0.941176</td>\n",
       "      <td>0.917647</td>\n",
       "      <td>0.945098</td>\n",
       "      <td>0.933333</td>\n",
       "      <td>0.952941</td>\n",
       "      <td>0.886275</td>\n",
       "      <td>0.941176</td>\n",
       "      <td>0.788235</td>\n",
       "      <td>0.882353</td>\n",
       "      <td>0.933333</td>\n",
       "      <td>...</td>\n",
       "      <td>0.717647</td>\n",
       "      <td>0.552941</td>\n",
       "      <td>0.729412</td>\n",
       "      <td>0.686275</td>\n",
       "      <td>0.239216</td>\n",
       "      <td>0.352941</td>\n",
       "      <td>0.443137</td>\n",
       "      <td>0.462745</td>\n",
       "      <td>0.596078</td>\n",
       "      <td>0</td>\n",
       "    </tr>\n",
       "    <tr>\n",
       "      <th>3</th>\n",
       "      <td>0.537255</td>\n",
       "      <td>0.533333</td>\n",
       "      <td>0.521569</td>\n",
       "      <td>0.545098</td>\n",
       "      <td>0.552941</td>\n",
       "      <td>0.564706</td>\n",
       "      <td>0.580392</td>\n",
       "      <td>0.592157</td>\n",
       "      <td>0.600000</td>\n",
       "      <td>0.623529</td>\n",
       "      <td>...</td>\n",
       "      <td>0.462745</td>\n",
       "      <td>0.454902</td>\n",
       "      <td>0.470588</td>\n",
       "      <td>0.474510</td>\n",
       "      <td>0.466667</td>\n",
       "      <td>0.466667</td>\n",
       "      <td>0.470588</td>\n",
       "      <td>0.458824</td>\n",
       "      <td>0.470588</td>\n",
       "      <td>0</td>\n",
       "    </tr>\n",
       "    <tr>\n",
       "      <th>4</th>\n",
       "      <td>0.521569</td>\n",
       "      <td>0.545098</td>\n",
       "      <td>0.549020</td>\n",
       "      <td>0.564706</td>\n",
       "      <td>0.572549</td>\n",
       "      <td>0.592157</td>\n",
       "      <td>0.588235</td>\n",
       "      <td>0.584314</td>\n",
       "      <td>0.580392</td>\n",
       "      <td>0.568627</td>\n",
       "      <td>...</td>\n",
       "      <td>0.537255</td>\n",
       "      <td>0.564706</td>\n",
       "      <td>0.674510</td>\n",
       "      <td>0.541176</td>\n",
       "      <td>0.482353</td>\n",
       "      <td>0.800000</td>\n",
       "      <td>0.894118</td>\n",
       "      <td>0.611765</td>\n",
       "      <td>0.654902</td>\n",
       "      <td>0</td>\n",
       "    </tr>\n",
       "  </tbody>\n",
       "</table>\n",
       "<p>5 rows × 16385 columns</p>\n",
       "</div>"
      ],
      "text/plain": [
       "          0         1         2         3         4         5         6  \\\n",
       "0  0.549020  0.552941  0.545098  0.552941  0.545098  0.556863  0.556863   \n",
       "1  0.756863  0.831373  0.894118  0.815686  0.862745  0.866667  0.737255   \n",
       "2  0.941176  0.917647  0.945098  0.933333  0.952941  0.886275  0.941176   \n",
       "3  0.537255  0.533333  0.521569  0.545098  0.552941  0.564706  0.580392   \n",
       "4  0.521569  0.545098  0.549020  0.564706  0.572549  0.592157  0.588235   \n",
       "\n",
       "          7         8         9  ...     16375     16376     16377     16378  \\\n",
       "0  0.556863  0.552941  0.556863  ...  0.294118  0.282353  0.286275  0.274510   \n",
       "1  0.772549  0.768627  0.219608  ...  0.866667  0.890196  0.933333  0.905882   \n",
       "2  0.788235  0.882353  0.933333  ...  0.717647  0.552941  0.729412  0.686275   \n",
       "3  0.592157  0.600000  0.623529  ...  0.462745  0.454902  0.470588  0.474510   \n",
       "4  0.584314  0.580392  0.568627  ...  0.537255  0.564706  0.674510  0.541176   \n",
       "\n",
       "      16379     16380     16381     16382     16383  label  \n",
       "0  0.294118  0.286275  0.286275  0.278431  0.360784      0  \n",
       "1  0.882353  0.921569  0.945098  0.858824  0.823529      0  \n",
       "2  0.239216  0.352941  0.443137  0.462745  0.596078      0  \n",
       "3  0.466667  0.466667  0.470588  0.458824  0.470588      0  \n",
       "4  0.482353  0.800000  0.894118  0.611765  0.654902      0  \n",
       "\n",
       "[5 rows x 16385 columns]"
      ]
     },
     "execution_count": 3,
     "metadata": {},
     "output_type": "execute_result"
    }
   ],
   "source": [
    "import pandas as pd\n",
    "\n",
    "pixels_df = pd.DataFrame(pixels)\n",
    "pixels_df = pixels_df/255\n",
    "\n",
    "labels_df = pd.DataFrame(labels)\n",
    "labels_df = labels_df.rename(columns={0: 'label'})\n",
    "\n",
    "img_set = pd.concat([pixels_df, labels_df], axis=1)\n",
    "img_set.head()"
   ]
  },
  {
   "cell_type": "markdown",
   "metadata": {},
   "source": [
    "## モルフォロジー変換"
   ]
  },
  {
   "cell_type": "code",
   "execution_count": 4,
   "metadata": {},
   "outputs": [
    {
     "name": "stdout",
     "output_type": "stream",
     "text": [
      "Using matplotlib backend: Qt5Agg\n"
     ]
    }
   ],
   "source": [
    "import matplotlib.pyplot as plt\n",
    "%matplotlib\n",
    "\n",
    "img = cv2.imread('../datasets./ric/ants/Swiss-army-ant.jpg', 0)\n",
    "ret, bin_img = cv2.threshold(img, 128, 255, cv2.THRESH_BINARY)\n",
    "\n",
    "kernel = np.ones((3,3), np.uint8)\n",
    "img_el = cv2.erode(bin_img, kernel, iterations=1)\n"
   ]
  },
  {
   "cell_type": "markdown",
   "metadata": {},
   "source": [
    "## 収縮 erosion"
   ]
  },
  {
   "cell_type": "code",
   "execution_count": 5,
   "metadata": {},
   "outputs": [],
   "source": [
    "plt.imshow(img_el, cmap='gray')\n",
    "plt.show()"
   ]
  },
  {
   "cell_type": "markdown",
   "metadata": {},
   "source": [
    "## 膨張 Dilation"
   ]
  },
  {
   "cell_type": "code",
   "execution_count": 6,
   "metadata": {},
   "outputs": [],
   "source": [
    "img_dl = cv2.dilate(bin_img, kernel, iterations=1)\n",
    "plt.imshow(img_dl, cmap='gray')\n",
    "plt.show()"
   ]
  },
  {
   "cell_type": "markdown",
   "metadata": {},
   "source": [
    "## オープニング opening"
   ]
  },
  {
   "cell_type": "code",
   "execution_count": 7,
   "metadata": {},
   "outputs": [
    {
     "data": {
      "text/plain": [
       "<matplotlib.image.AxesImage at 0x26778adc88>"
      ]
     },
     "execution_count": 7,
     "metadata": {},
     "output_type": "execute_result"
    }
   ],
   "source": [
    "img_op = cv2.morphologyEx(bin_img, cv2.MORPH_OPEN, kernel)\n",
    "plt.imshow(img_op, cmap='gray')"
   ]
  },
  {
   "cell_type": "markdown",
   "metadata": {},
   "source": [
    "## クロージング Closing"
   ]
  },
  {
   "cell_type": "code",
   "execution_count": 8,
   "metadata": {},
   "outputs": [
    {
     "data": {
      "text/plain": [
       "<matplotlib.image.AxesImage at 0x26778ab748>"
      ]
     },
     "execution_count": 8,
     "metadata": {},
     "output_type": "execute_result"
    }
   ],
   "source": [
    "img_cl = cv2.morphologyEx(bin_img, cv2.MORPH_CLOSE, kernel)\n",
    "plt.imshow(img_cl, cmap='gray')"
   ]
  },
  {
   "cell_type": "code",
   "execution_count": 9,
   "metadata": {},
   "outputs": [],
   "source": [
    "hist_gr, bins = np.histogram(img.ravel(), 256, [0,256])\n",
    "\n",
    "plt.xlim(0, 255)\n",
    "plt.plot(hist_gr, '-r')\n",
    "plt.xlabel('pixel value')\n",
    "plt.ylabel('number of pixels')\n",
    "plt.show()"
   ]
  },
  {
   "cell_type": "markdown",
   "metadata": {},
   "source": [
    "## t-SNEによる次元圧縮"
   ]
  },
  {
   "cell_type": "code",
   "execution_count": 10,
   "metadata": {},
   "outputs": [
    {
     "name": "stdout",
     "output_type": "stream",
     "text": [
      "(397, 16384)\n",
      "(397, 2)\n"
     ]
    },
    {
     "data": {
      "text/html": [
       "<div>\n",
       "<style scoped>\n",
       "    .dataframe tbody tr th:only-of-type {\n",
       "        vertical-align: middle;\n",
       "    }\n",
       "\n",
       "    .dataframe tbody tr th {\n",
       "        vertical-align: top;\n",
       "    }\n",
       "\n",
       "    .dataframe thead th {\n",
       "        text-align: right;\n",
       "    }\n",
       "</style>\n",
       "<table border=\"1\" class=\"dataframe\">\n",
       "  <thead>\n",
       "    <tr style=\"text-align: right;\">\n",
       "      <th></th>\n",
       "      <th>0</th>\n",
       "      <th>1</th>\n",
       "      <th>label</th>\n",
       "    </tr>\n",
       "  </thead>\n",
       "  <tbody>\n",
       "    <tr>\n",
       "      <th>0</th>\n",
       "      <td>2.033107</td>\n",
       "      <td>2.450779</td>\n",
       "      <td>0</td>\n",
       "    </tr>\n",
       "    <tr>\n",
       "      <th>1</th>\n",
       "      <td>4.387461</td>\n",
       "      <td>7.933300</td>\n",
       "      <td>0</td>\n",
       "    </tr>\n",
       "    <tr>\n",
       "      <th>2</th>\n",
       "      <td>6.118368</td>\n",
       "      <td>8.837999</td>\n",
       "      <td>0</td>\n",
       "    </tr>\n",
       "    <tr>\n",
       "      <th>3</th>\n",
       "      <td>-2.117239</td>\n",
       "      <td>-2.292316</td>\n",
       "      <td>0</td>\n",
       "    </tr>\n",
       "    <tr>\n",
       "      <th>4</th>\n",
       "      <td>1.787750</td>\n",
       "      <td>4.625388</td>\n",
       "      <td>0</td>\n",
       "    </tr>\n",
       "  </tbody>\n",
       "</table>\n",
       "</div>"
      ],
      "text/plain": [
       "          0         1  label\n",
       "0  2.033107  2.450779      0\n",
       "1  4.387461  7.933300      0\n",
       "2  6.118368  8.837999      0\n",
       "3 -2.117239 -2.292316      0\n",
       "4  1.787750  4.625388      0"
      ]
     },
     "execution_count": 10,
     "metadata": {},
     "output_type": "execute_result"
    }
   ],
   "source": [
    "from sklearn.manifold import TSNE\n",
    "\n",
    "tsne = TSNE(n_components=2)\n",
    "pixels_tsne = tsne.fit_transform(pixels_df)\n",
    "\n",
    "print(pixels_df.shape)\n",
    "print(pixels_tsne.shape)\n",
    "\n",
    "img_set_tsne = pd.concat([pd.DataFrame(pixels_tsne), labels_df], axis=1)\n",
    "img_set_tsne.head()"
   ]
  },
  {
   "cell_type": "code",
   "execution_count": 12,
   "metadata": {},
   "outputs": [],
   "source": [
    "img_set_tsne_0 = img_set_tsne[img_set_tsne['label'] == 0]\n",
    "img_set_tsne_0 = img_set_tsne_0.drop('label', axis=1)\n",
    "plt.scatter(img_set_tsne_0[0], img_set_tsne_0[1], c='red', label=0)\n",
    "\n",
    "img_set_tsne_1 = img_set_tsne[img_set_tsne['label'] == 1]\n",
    "img_set_tsne_1 = img_set_tsne_1.drop('label', axis=1)\n",
    "plt.scatter(img_set_tsne_1[0], img_set_tsne_1[1], c='blue', label=1)\n",
    "\n",
    "plt.xlabel('1st-comp')\n",
    "plt.ylabel('2nd-comp')\n",
    "plt.legend()\n",
    "plt.grid()\n",
    "plt.show()"
   ]
  },
  {
   "cell_type": "code",
   "execution_count": null,
   "metadata": {},
   "outputs": [],
   "source": []
  }
 ],
 "metadata": {
  "kernelspec": {
   "display_name": "Python 3",
   "language": "python",
   "name": "python3"
  },
  "language_info": {
   "codemirror_mode": {
    "name": "ipython",
    "version": 3
   },
   "file_extension": ".py",
   "mimetype": "text/x-python",
   "name": "python",
   "nbconvert_exporter": "python",
   "pygments_lexer": "ipython3",
   "version": "3.7.6"
  }
 },
 "nbformat": 4,
 "nbformat_minor": 4
}
